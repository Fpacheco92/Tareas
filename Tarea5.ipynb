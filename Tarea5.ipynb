{
  "cells": [
    {
      "cell_type": "markdown",
      "metadata": {
        "colab_type": "text",
        "id": "view-in-github"
      },
      "source": [
        "<a href=\"https://colab.research.google.com/github/Fpacheco92/Tareas/blob/main/Tarea5.ipynb\" target=\"_parent\"><img src=\"https://colab.research.google.com/assets/colab-badge.svg\" alt=\"Open In Colab\"/></a>"
      ]
    },
    {
      "cell_type": "code",
      "execution_count": 13,
      "metadata": {
        "colab": {
          "base_uri": "https://localhost:8080/",
          "height": 465
        },
        "id": "d5CRCyQLq7Ks",
        "outputId": "f06ca2f4-d605-4d72-a57e-41b73747962d"
      },
      "outputs": [
        {
          "name": "stdout",
          "output_type": "stream",
          "text": [
            "Ingrese número de misiles:10\n"
          ]
        },
        {
          "data": {
            "image/png": "[encoded data removed]",
            "text/plain": [
              "<Figure size 640x480 with 1 Axes>"
            ]
          },
          "metadata": {},
          "output_type": "display_data"
        },
        {
          "name": "stdout",
          "output_type": "stream",
          "text": [
            "se deben lanzar 14 misiles para que la probabilidad de impacto de almenos uno sea de 0.5.\n"
          ]
        }
      ],
      "source": [
        "import matplotlib.pyplot as plt\n",
        "\n",
        "n = int(input('Ingrese número de misiles:'))\n",
        "#funcion que da la probabilidad de interceptar n misiles\n",
        "def prob_0impactos(n):\n",
        "  return 0.95 ** n\n",
        "\n",
        "def grafica_probabilidades(n):\n",
        "  #grafica de las probabilidades\n",
        "  probabilidades=[] # lista que almacena las probabilidades\n",
        "  for i in range(n):\n",
        "    probabilidades.append(prob_0impactos(i))\n",
        "  plt.bar(range(n),probabilidades)\n",
        "  plt.show()\n",
        "\n",
        "grafica_probabilidades(n)\n",
        "\n",
        "n = 1\n",
        "while prob_0impactos(n) > 0.5:# ciclo que calcula cuantos lanzamientos se necesitan\n",
        "    n += 1\n",
        "print(\"se deben lanzar\", n, \"misiles para que la probabilidad de impacto de almenos uno sea de 0.5.\")\n"
      ]
    },
    {
      "cell_type": "markdown",
      "metadata": {},
      "source": [
        "# Calificación: 2.0"
      ]
    },
    {
      "cell_type": "markdown",
      "metadata": {},
      "source": [
        "Retraso en la entrega: -5.0"
      ]
    },
    {
      "cell_type": "markdown",
      "metadata": {},
      "source": []
    }
  ],
  "metadata": {
    "colab": {
      "authorship_tag": "ABX9TyMBVDFstYRAu2v9XNuQczr5",
      "include_colab_link": true,
      "provenance": []
    },
    "kernelspec": {
      "display_name": "Python 3",
      "name": "python3"
    },
    "language_info": {
      "name": "python"
    }
  },
  "nbformat": 4,
  "nbformat_minor": 0
}
