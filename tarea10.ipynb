{
  "cells": [
    {
      "cell_type": "markdown",
      "metadata": {
        "colab_type": "text",
        "id": "view-in-github"
      },
      "source": [
        "<a href=\"https://colab.research.google.com/github/Fpacheco92/Tareas/blob/main/tarea10.ipynb\" target=\"_parent\"><img src=\"https://colab.research.google.com/assets/colab-badge.svg\" alt=\"Open In Colab\"/></a>"
      ]
    },
    {
      "cell_type": "markdown",
      "metadata": {
        "id": "O8LNYC2wmOxO"
      },
      "source": [
        "Con los datos entregados se procede a calcular A(x) y así la forma completa de dy/dx:\n",
        "\n",
        "El volumen de un cono es igual $V = \\pi r^2 x/3$\n",
        "\n",
        "al reemplazar los datos iniciales del problema y despejar r obtenemos r=7.75m\n",
        "\n",
        "con esto es posible expresar r en funcion de la altura x, por trigonometria se tiene que $r=x/tan(\\theta)$\n",
        "\n",
        "reemplazando los valores iniciales ya que $\\theta$ es constante x=2.7 y r=7.75 ,$tan(\\theta)=0.348$\n",
        "\n",
        "Asi $A(x)=\\pi r^2=\\pi (x/tan(\\theta))^2$\n",
        "\n",
        "y por lo tanto reemplazando todos los valores  $dy/dx= $2.9e-4$\\sqrt{x}/x^2$\n",
        "\n"
      ]
    },
    {
      "cell_type": "code",
      "execution_count": 2,
      "metadata": {
        "colab": {
          "base_uri": "https://localhost:8080/"
        },
        "id": "wTFqpDpzdtzk",
        "outputId": "0dc85766-7d3a-4b63-bb24-d6ef030c05f3"
      },
      "outputs": [
        {
          "name": "stdout",
          "output_type": "stream",
          "text": [
            "(array([ 0.        ,  0.33333333,  0.66666667,  1.        ,  1.33333333,\n",
            "        1.66666667,  2.        ,  2.33333333,  2.66666667,  3.        ,\n",
            "        3.33333333,  3.66666667,  4.        ,  4.33333333,  4.66666667,\n",
            "        5.        ,  5.33333333,  5.66666667,  6.        ,  6.33333333,\n",
            "        6.66666667,  7.        ,  7.33333333,  7.66666667,  8.        ,\n",
            "        8.33333333,  8.66666667,  9.        ,  9.33333333,  9.66666667,\n",
            "       10.        ]), array([2.7       , 2.69997821, 2.69995642, 2.69993463, 2.69991284,\n",
            "       2.69989105, 2.69986926, 2.69984747, 2.69982568, 2.69980389,\n",
            "       2.6997821 , 2.69976031, 2.69973852, 2.69971672, 2.69969493,\n",
            "       2.69967314, 2.69965135, 2.69962955, 2.69960776, 2.69958597,\n",
            "       2.69956417, 2.69954238, 2.69952059, 2.69949879, 2.699477  ,\n",
            "       2.6994552 , 2.6994334 , 2.69941161, 2.69938981, 2.69936802,\n",
            "       2.69934622]))\n",
            "a los 10 minutos quedan 169.80230859270347 metros cubicos de agua en el cono\n"
          ]
        }
      ],
      "source": [
        "import numpy as np\n",
        "import matplotlib.pyplot as plt\n",
        "import math\n",
        "\n",
        "#Valores iniciales\n",
        "t0=0\n",
        "x0=2.7\n",
        "n=31\n",
        "\n",
        "\n",
        "t=np.zeros(n)\n",
        "x=np.zeros(n)\n",
        "\n",
        "#Define la funcion a utilizar\n",
        "def fxt(ti,xi):\n",
        "  dxdt= -2.9e-4 * np.sqrt(xi) *(xi)**(-2)\n",
        "  return dxdt\n",
        "\n",
        "# funcion que implementa Runge Kutta\n",
        "def RK4(h,t0,x0,n):\n",
        "\n",
        "# condiciones iniciales\n",
        "  t[0]=t0\n",
        "  x[0]=x0\n",
        "\n",
        "#Obtencion de los k\n",
        "\n",
        "  for i in range(n-1):\n",
        "\n",
        "    k1= fxt(t[i],x[i])\n",
        "    k2= fxt(t[i] + 0.5*h , x[i] + 0.5*k1*h)\n",
        "    k3= fxt(t[i] + 0.5*h , x[i] + 0.5*k2*h)\n",
        "    k4= fxt(t[i] + h , x[i]+ k3*h)\n",
        "#valores\n",
        "    t[i+1] = t[i]+h\n",
        "    x[i+1] = x[i] + (k1 + 2*k2 + 2*k3 +k4)*h/6\n",
        "\n",
        "  return t,x\n",
        "\n",
        "\n",
        "\n",
        "prueba= RK4(1/3,t0,x0,n)\n",
        "\n",
        "vol_10=1/3*(np.pi*(x[30])*(x[30])**2/0.1213) #volumen de agua en el cono a los 10 min\n",
        "\n",
        "print(prueba)\n",
        "print(\"a los 10 minutos quedan\", vol_10, \"metros cubicos de agua en el cono\")\n",
        "\n"
      ]
    },
    {
      "cell_type": "markdown",
      "metadata": {
        "id": "24rc7hr53amd"
      },
      "source": [
        "parte b, para calcular el tiempo de vaciado haré uso de la sugerencia entregada en un segundo codigo de Runge kutta.\n",
        "\n",
        "los parametros de entrada esta vez son f la funcion a la que se aplicara, [a,b] el intervalo, y0 es el valor inicial y n el número de iteraciones.\n",
        "\n",
        "notar que esta vez no sabemos el largo del intervalo (desconocemos b) pero se nos permite una precision de 1 minuto por lo que n=b nos da como resultado un paso de h=1.\n",
        "\n",
        "Testeando con diferentes n note que el cambio de signo en el calculo ocurre aproximadamente con n=16500 por lo cual usare n=b=17000."
      ]
    },
    {
      "cell_type": "code",
      "execution_count": 4,
      "metadata": {
        "colab": {
          "base_uri": "https://localhost:8080/"
        },
        "id": "DaqrRldD3d4F",
        "outputId": "491cb48c-1608-4b09-c583-be9b14d39623"
      },
      "outputs": [
        {
          "name": "stdout",
          "output_type": "stream",
          "text": [
            "el cono se vacia en 16522.0 minutos\n",
            "el cono se vacia en 16522 minutos\n",
            "(array([0.0000e+00, 1.0000e+00, 2.0000e+00, ..., 0.0000e+00, 0.0000e+00,\n",
            "       1.6522e+04]), array([2.7       , 2.69993463, 2.69986926, ..., 0.        , 0.        ,\n",
            "              nan]))\n"
          ]
        },
        {
          "name": "stderr",
          "output_type": "stream",
          "text": [
            "/tmp/ipykernel_571874/1239613285.py:16: RuntimeWarning: invalid value encountered in sqrt\n",
            "  dxdt= -2.9e-4 * np.sqrt(xi) *(xi)**(-2)\n"
          ]
        }
      ],
      "source": [
        "\n",
        "def rk4_m(f, a, b, yo, N):\n",
        "\n",
        "    h = (b-a)/N\n",
        "    t = a\n",
        "    w = yo\n",
        "    ts = np.zeros(N+1)\n",
        "    sol = np.zeros(N+1)\n",
        "    tiempo = 0\n",
        "    i = 0\n",
        "    while True:\n",
        "        ts[i] = t\n",
        "        sol[i] = w\n",
        "        k1 = h*f(t, w)\n",
        "        k2 = h*f(t+h/2, w+k1/2)\n",
        "        k3 = h*f(t+h/2, w+k2/2)\n",
        "        k4 = h*f(t + h, w + k3)\n",
        "        w = w + (k1 + 2*k2 + 2*k3 + k4)/6\n",
        "        if math.isnan(w)==True: #condicional corta si encuentra un valor negativo en la raiz\n",
        "            break\n",
        "        t = t + h\n",
        "        tiempo=tiempo+1\n",
        "        i+=1\n",
        "\n",
        "    ts[N] = t\n",
        "    sol[N] = w\n",
        "\n",
        "    print('el cono se vacia en', tiempo,\"minutos\")\n",
        "    return ts, sol\n",
        "\n",
        "prueba2=rk4_m(fxt,0,17000, x0, 17000)\n",
        "print(prueba2)\n",
        "\n"
      ]
    },
    {
      "cell_type": "markdown",
      "metadata": {},
      "source": [
        "# Calificación: 6.5"
      ]
    },
    {
      "cell_type": "markdown",
      "metadata": {},
      "source": [
        "Error en las unidades del resultado final."
      ]
    },
    {
      "cell_type": "markdown",
      "metadata": {},
      "source": []
    }
  ],
  "metadata": {
    "colab": {
      "include_colab_link": true,
      "provenance": []
    },
    "kernelspec": {
      "display_name": "Python 3",
      "name": "python3"
    },
    "language_info": {
      "codemirror_mode": {
        "name": "ipython",
        "version": 3
      },
      "file_extension": ".py",
      "mimetype": "text/x-python",
      "name": "python",
      "nbconvert_exporter": "python",
      "pygments_lexer": "ipython3",
      "version": "3.11.4"
    }
  },
  "nbformat": 4,
  "nbformat_minor": 0
}
