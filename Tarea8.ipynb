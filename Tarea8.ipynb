{
  "cells": [
    {
      "cell_type": "markdown",
      "metadata": {
        "colab_type": "text",
        "id": "view-in-github"
      },
      "source": [
        "<a href=\"https://colab.research.google.com/github/Fpacheco92/Tareas/blob/main/Tarea8.ipynb\" target=\"_parent\"><img src=\"https://colab.research.google.com/assets/colab-badge.svg\" alt=\"Open In Colab\"/></a>"
      ]
    },
    {
      "cell_type": "code",
      "execution_count": 19,
      "metadata": {
        "colab": {
          "base_uri": "https://localhost:8080/"
        },
        "id": "fVv3DlGjOVJ3",
        "outputId": "1415622d-5249-47a3-f6b0-bf05cc64778f"
      },
      "outputs": [
        {
          "name": "stdout",
          "output_type": "stream",
          "text": [
            "EL largo aproximado de la elipse es: 7.0685822089 con 32768 subintervalos.\n"
          ]
        }
      ],
      "source": [
        "import numpy as np\n",
        "\n",
        "# Ecc. elipse\n",
        "def ecuacion_elipse(x):\n",
        "    return np.sqrt(1 - (4*x**2 / 36)) * 3/2\n",
        "\n",
        "#Funcion para calcular el largo de la elipse usando regla de los trapecios compuesta.\n",
        "def longitud_elipse(a, b, n):\n",
        "    h = (b - a) / n\n",
        "    valores_x = np.linspace(a, b, n+1)\n",
        "\n",
        "    # regla de los trapecios compuesta\n",
        "    longitud = h * (ecuacion_elipse(a) + ecuacion_elipse(b))/2\n",
        "    longitud += h * sum(ecuacion_elipse(x) for x in valores_x[1:-1])\n",
        "\n",
        "    return longitud\n",
        "\n",
        "# intervalo (a,b) y precision\n",
        "a, b = -3, 3  # intervalo en base a elipse dada.\n",
        "precision_esperada = 1e-6\n",
        "\n",
        "# valores iniciales\n",
        "n = 1\n",
        "longitud_aproximada = longitud_elipse(a, b, n)\n",
        "error = np.inf\n",
        "\n",
        "# loop de refinamiento hasta lograr la precision deseada\n",
        "while error > precision_esperada:\n",
        "    n *= 2\n",
        "    longitud_iterada = longitud_elipse(a, b, n)\n",
        "    error = np.abs(longitud_iterada - longitud_aproximada) / 3  # Uso de Richardson\n",
        "    longitud_aproximada = longitud_iterada\n",
        "\n",
        "print(f\"EL largo aproximado de la elipse es: {length_approx:.10f} con {n} subintervalos.\")"
      ]
    },
    {
      "cell_type": "markdown",
      "metadata": {},
      "source": [
        "# Calificación: 4.0"
      ]
    },
    {
      "cell_type": "markdown",
      "metadata": {},
      "source": [
        "Retraso en la entrega: -1.0\n",
        "\n",
        "No se usaron los docstrings: -0.5\n",
        "\n",
        "Se calculó la longitud de media elipse: -1.0\n",
        "\n",
        "El error estimado no se implementó correctamente: -0.5"
      ]
    },
    {
      "cell_type": "markdown",
      "metadata": {},
      "source": []
    }
  ],
  "metadata": {
    "colab": {
      "authorship_tag": "ABX9TyM+xDazhdwukItzVv5aeEyP",
      "include_colab_link": true,
      "provenance": []
    },
    "kernelspec": {
      "display_name": "Python 3",
      "name": "python3"
    },
    "language_info": {
      "name": "python"
    }
  },
  "nbformat": 4,
  "nbformat_minor": 0
}
