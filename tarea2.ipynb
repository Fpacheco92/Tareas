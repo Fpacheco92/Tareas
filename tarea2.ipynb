{
  "nbformat": 4,
  "nbformat_minor": 0,
  "metadata": {
    "colab": {
      "provenance": [],
      "authorship_tag": "ABX9TyOQrbJ8ky/nsarPwVjWY9xx"
    },
    "kernelspec": {
      "name": "python3",
      "display_name": "Python 3"
    },
    "language_info": {
      "name": "python"
    }
  },
  "cells": [
    {
      "cell_type": "code",
      "execution_count": 7,
      "metadata": {
        "colab": {
          "base_uri": "https://localhost:8080/"
        },
        "id": "7an4dPgpmkAz",
        "outputId": "8cc5211e-3a51-43b3-8880-3ea52fa4b362"
      },
      "outputs": [
        {
          "output_type": "stream",
          "name": "stdout",
          "text": [
            "[[1 1]\n",
            " [1 1]\n",
            " [3 4]\n",
            " [2 2]\n",
            " [2 3]]\n"
          ]
        }
      ],
      "source": [
        "import numpy as np\n",
        "mi_array = np.array([[1,1,1,1,3],[1,1,1,1,5],[2,3,4,5,6],[2,2,2,2,8],[1,2,3,4,5]])\n",
        "mi_array2= mi_array [0:,1:3] # considera todas las columnas (0-4) y solo las filas 2 y 3 (0-3)\n",
        "print (mi_array2)\n"
      ]
    }
  ]
}