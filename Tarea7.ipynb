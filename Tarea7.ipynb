{
  "cells": [
    {
      "cell_type": "markdown",
      "metadata": {
        "colab_type": "text",
        "id": "view-in-github"
      },
      "source": [
        "<a href=\"https://colab.research.google.com/github/Fpacheco92/Tareas/blob/main/Tarea7.ipynb\" target=\"_parent\"><img src=\"https://colab.research.google.com/assets/colab-badge.svg\" alt=\"Open In Colab\"/></a>"
      ]
    },
    {
      "cell_type": "code",
      "execution_count": 18,
      "metadata": {
        "colab": {
          "base_uri": "https://localhost:8080/"
        },
        "id": "Ez1rdRQpYR4Y",
        "outputId": "de9e0c49-20db-462f-d64f-fbafd1959174"
      },
      "outputs": [
        {
          "name": "stdout",
          "output_type": "stream",
          "text": [
            "valor integral Gaussiana = 0.7468241328124269\n",
            "Valor integral polinomio Legendre asociado = 0.7471804289095103\n",
            "error de la aproximacion = 0.04770816600980385 %\n"
          ]
        }
      ],
      "source": [
        "import matplotlib.pyplot as plt\n",
        "import numpy as np\n",
        "from scipy import special\n",
        "\n",
        "# Se usaran los polinomios de Legendre usando 3 puntos para aproximar la funcion dada.\n",
        "\n",
        "def dif_divididas(puntos):\n",
        "\n",
        "  # Función que obtiene los coef del polinomio de Legendre con input los puntos del mismo.\n",
        "\n",
        "    x = len(puntos) - 1\n",
        "    coef = [np.zeros(x + 1)] # lista que guarda los coeficientes\n",
        "    for i in range(x + 1):\n",
        "        coef[0][i] = puntos[i][1] # coef 0 del polinomio corresponde al primer punto.\n",
        "\n",
        "    for i in range(1, x + 1):\n",
        "        coef.append(np.zeros(x + 1 - i))\n",
        "        for j in range(1, i + 1):\n",
        "            coef[j][i-j] = (coef[j-1][i-j+1] - coef[j-1][i-j])/(puntos[i][0] - puntos[i-j][0])\n",
        "\n",
        "    return [coef[i][0] for i in range(x + 1)]\n",
        "\n",
        "#inputs para la siguiente funcion.\n",
        "\n",
        "n = np.linspace(0,1,3) #division del intervalo (0.1) en 3\n",
        "puntos = np.array([[ni, np.exp((-1)*ni**2)] for ni in n])\n",
        "coeficientes = dif_divididas(puntos) #coef obtenidos por la funcion anterior\n",
        "\n",
        "def Integral_Legendre(coeficientes, puntos, intervalo = [0,1]):\n",
        "\n",
        "    #Funcion que calcula la integral del polinomio de Legendre con entradas, los coef obtenidos con la funcion anterior\n",
        "\n",
        "    a_0,a_1,a_2 = coeficientes\n",
        "    x_0,x_1,x_2 = puntos[:,0] # puntos iniciales.\n",
        "    a,b = intervalo\n",
        "\n",
        "    # Integral definida en extremo derecho (b).\n",
        "    Integral_b = b*(a_0 + (a_1*b)/2 - a_1*x_0 + (a_2*b**(2))/3 - (a_2*b*x_1)/2 - (a_2*x_0*b)/2 + a_2*x_0*x_1)\n",
        "\n",
        "    # Integral definida en extremo izquierdo (a)\n",
        "    Integral_a = a*(a_0 + (a_1*a)/2 - a_1*x_0 + (a_2*a**(2))/3 - (a_2*a*x_1)/2 - (a_2*x_0*a)/2 + a_2*x_0*x_1)\n",
        "\n",
        "    return Integral_b - Integral_a\n",
        "\n",
        "\n",
        "Valor_Legendre = Integral_Legendre(coeficientes, puntos, (0,1)) # Calculo aproximacion Legendre.\n",
        "\n",
        "Valor_Gaussiana = (np.sqrt(np.pi)/2)*special.erf(1) # Calculo de gaussiana usando sugerencia.\n",
        "\n",
        "\n",
        "Error= (abs(Valor_Legendre - Valor_Gaussiana)/abs(Valor_Gaussiana))*100\n",
        "\n",
        "print(\"valor integral Gaussiana =\", Valor_Gaussiana)\n",
        "print(\"Valor integral polinomio Legendre asociado =\",Valor_Legendre  )\n",
        "print(\"error de la aproximacion =\", Error, \"%\")"
      ]
    },
    {
      "cell_type": "markdown",
      "metadata": {},
      "source": [
        "# Calificación: 3.5"
      ]
    },
    {
      "cell_type": "markdown",
      "metadata": {},
      "source": [
        "Retraso en la entrega: -3.0\n",
        "\n",
        "No se usaron docstrings: 0.5"
      ]
    },
    {
      "cell_type": "markdown",
      "metadata": {},
      "source": []
    }
  ],
  "metadata": {
    "colab": {
      "authorship_tag": "ABX9TyMlrHTSMzdNCWI6WagGyKtl",
      "include_colab_link": true,
      "provenance": [],
      "toc_visible": true
    },
    "kernelspec": {
      "display_name": "Python 3",
      "name": "python3"
    },
    "language_info": {
      "name": "python"
    }
  },
  "nbformat": 4,
  "nbformat_minor": 0
}
